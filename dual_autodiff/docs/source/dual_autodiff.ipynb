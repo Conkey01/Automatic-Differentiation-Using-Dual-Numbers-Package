{
 "cells": [
  {
   "cell_type": "code",
   "execution_count": 6,
   "id": "79e19a30-8291-4885-bf00-3a73f27e61ff",
   "metadata": {},
   "outputs": [
    {
     "name": "stdout",
     "output_type": "stream",
     "text": [
      "['/Users/conkey/Documents/dual_autodiff', '/Users/conkey/Documents/dual_autodiff', '/Users/conkey/Documents/dual_autodiff/docs/source', '/Users/conkey/anaconda3/lib/python310.zip', '/Users/conkey/anaconda3/lib/python3.10', '/Users/conkey/anaconda3/lib/python3.10/lib-dynload', '', '/Users/conkey/anaconda3/lib/python3.10/site-packages', '/Users/conkey/anaconda3/lib/python3.10/site-packages/PyQt5_sip-12.11.0-py3.10-macosx-11.1-arm64.egg', '/Users/conkey/Documents/dual_autodiff_x/src']\n"
     ]
    }
   ],
   "source": [
    "# Cell 1: Add the path to the package directory\n",
    "import sys\n",
    "import os\n",
    "\n",
    "# Add the relative path to the package directory\n",
    "sys.path.insert(0, os.path.abspath('../../'))\n",
    "\n",
    "# Verify the path was added\n",
    "print(sys.path)\n",
    "\n",
    "# Import the package\n",
    "import sub_dual_autodiff as sda\n"
   ]
  },
  {
   "cell_type": "code",
   "execution_count": 19,
   "id": "5f1afe4a-7e32-4611-8f37-465b19bc51c3",
   "metadata": {},
   "outputs": [
    {
     "name": "stdout",
     "output_type": "stream",
     "text": [
      "x: Dual(real=10, dual=4)\n",
      "y: Dual(real=5, dual=17)\n",
      "Addition: Dual(real=15, dual=21)\n",
      "Subtraction: Dual(real=5, dual=-13)\n",
      "Multiplication: Dual(real=50, dual=190)\n",
      "Division: Dual(real=2.0, dual=-6.0)\n",
      "sin(x): Dual(real=-0.5440211108893698, dual=-3.3562861163058098)\n",
      "cos(x): Dual(real=-0.8390715290764524, dual=2.176084443557479)\n",
      "tan(x): Dual(real=0.6483608274590867, dual=5.681487050333726)\n",
      "exp(x): Dual(real=22026.465794806718, dual=88105.86317922687)\n",
      "log(x): Dual(real=2.302585092994046, dual=0.4)\n"
     ]
    }
   ],
   "source": [
    "# dual_autodiff.ipynb\n",
    "\n",
    "\n",
    "\"\"\"\n",
    "# Dual AutoDiff Tutorial\n",
    "\n",
    "This notebook demonstrates how to use the `sub_dual_autodiff` package for automatic differentiation.\n",
    "\n",
    "## Example 3: Basic Operations with Dual Numbers\n",
    "\"\"\"\n",
    "\n",
    "from sub_dual_autodiff import Dual\n",
    "import numpy as np\n",
    "\n",
    "# Create dual numbers\n",
    "x = Dual(10, 4)  # Dual number: 10 + 4ε\n",
    "y = Dual(5, 17)  # Dual number: 5 + 17ε\n",
    "\n",
    "# Basic representation\n",
    "print(f\"x: {x}\")\n",
    "print(f\"y: {y}\")\n",
    "\n",
    "# Addition\n",
    "addition = x + y\n",
    "print(f\"Addition: {addition}\")\n",
    "\n",
    "# Subtraction\n",
    "subtraction = x - y\n",
    "print(f\"Subtraction: {subtraction}\")\n",
    "\n",
    "# Multiplication\n",
    "multiplication = x * y\n",
    "print(f\"Multiplication: {multiplication}\")\n",
    "\n",
    "# Division\n",
    "division = x / y\n",
    "print(f\"Division: {division}\")\n",
    "\n",
    "\"\"\"\n",
    "## Example 2: Dual Numbers and Elementary Functions\n",
    "\"\"\"\n",
    "\n",
    "# Trigonometric functions\n",
    "sin_x = x.sin()\n",
    "cos_x = x.cos()\n",
    "tan_x = x.tan()\n",
    "\n",
    "print(f\"sin(x): {sin_x}\")\n",
    "print(f\"cos(x): {cos_x}\")\n",
    "print(f\"tan(x): {tan_x}\")\n",
    "\n",
    "# Exponential and logarithmic functions\n",
    "exp_x = x.exp()\n",
    "log_x = x.log()\n",
    "\n",
    "print(f\"exp(x): {exp_x}\")\n",
    "print(f\"log(x): {log_x}\")\n",
    "\n",
    "\n",
    "\n",
    "\n",
    "\n"
   ]
  },
  {
   "cell_type": "code",
   "execution_count": 10,
   "id": "f0986585-d0c6-4068-be89-3eb87a44bc3d",
   "metadata": {},
   "outputs": [],
   "source": [
    "\n",
    "import sys\n",
    "import os\n",
    "\n",
    "# Get the absolute path of dual_autodiff_x/src\n",
    "dual_autodiff_x_src_path = os.path.abspath(os.path.expanduser(\"~/Documents/dual_autodiff_x/src\"))\n",
    "\n",
    "# Add it to the Python path\n",
    "if dual_autodiff_x_src_path not in sys.path:\n",
    "    sys.path.append(dual_autodiff_x_src_path)\n",
    "\n",
    "# Now you can import sub_dual_autodiff_x\n",
    "from sub_dual_autodiff_x.dual import Dual\n"
   ]
  },
  {
   "cell_type": "code",
   "execution_count": 25,
   "id": "5700fdac-334a-479c-8b52-262bb0083702",
   "metadata": {},
   "outputs": [
    {
     "name": "stdout",
     "output_type": "stream",
     "text": [
      "Python version time: 0.0000024434 seconds\n",
      "Cython version time: 0.0000017910 seconds\n"
     ]
    },
    {
     "data": {
      "image/png": "[encoded data removed]",
      "text/plain": [
       "<Figure size 640x480 with 1 Axes>"
      ]
     },
     "metadata": {},
     "output_type": "display_data"
    }
   ],
   "source": [
    "import timeit\n",
    "import numpy as np\n",
    "import matplotlib.pyplot as plt\n",
    "\n",
    "# Example function to benchmark\n",
    "def example_function(package):\n",
    "    # Import the package and call a function (replace with actual implementation)\n",
    "    dual = package.Dual(2.0, 1.0)\n",
    "    return dual + dual * 3.0  \n",
    "\n",
    "\n",
    "# Benchmark each version\n",
    "def benchmark(package, n_iter=10000):\n",
    "    times = []\n",
    "    for _ in range(n_iter):\n",
    "        start = timeit.default_timer()\n",
    "        example_function(package)\n",
    "        end = timeit.default_timer()\n",
    "        times.append(end - start)\n",
    "    return np.mean(times)\n",
    "\n",
    "n_trials = 1000\n",
    "python_time = benchmark(sda, n_iter=n_trials)\n",
    "cython_time = benchmark(sub_dual_autodiff_x.dual, n_iter=n_trials)\n",
    "\n",
    "# Display results\n",
    "print(f\"Python version time: {python_time:.10f} seconds\")\n",
    "print(f\"Cython version time: {cython_time:.10f} seconds\")\n",
    "\n",
    "# Plot the comparison\n",
    "times = [python_time, cython_time]\n",
    "labels = ['Pure Python', 'Cythonized']\n",
    "plt.bar(labels, times, color=['blue', 'green'])\n",
    "plt.ylabel('Execution Time (seconds)')\n",
    "plt.title('Performance Comparison')\n",
    "plt.savefig(\"PurePython_vs_Cythonized.png\")\n",
    "plt.show()\n"
   ]
  },
  {
   "cell_type": "code",
   "execution_count": null,
   "id": "a63aba7a-2724-48d1-b761-592a2fb18400",
   "metadata": {},
   "outputs": [],
   "source": []
  }
 ],
 "metadata": {
  "kernelspec": {
   "display_name": "Python 3 (ipykernel)",
   "language": "python",
   "name": "python3"
  },
  "language_info": {
   "codemirror_mode": {
    "name": "ipython",
    "version": 3
   },
   "file_extension": ".py",
   "mimetype": "text/x-python",
   "name": "python",
   "nbconvert_exporter": "python",
   "pygments_lexer": "ipython3",
   "version": "3.10.13"
  }
 },
 "nbformat": 4,
 "nbformat_minor": 5
}
