{
 "cells": [
  {
   "cell_type": "code",
   "execution_count": 1,
   "id": "79e19a30-8291-4885-bf00-3a73f27e61ff",
   "metadata": {},
   "outputs": [
    {
     "name": "stdout",
     "output_type": "stream",
     "text": [
      "['/Users/conkey/Documents/dual_autodiff_x', '/Users/conkey/Documents/dual_autodiff_x/docs/source', '/Users/conkey/anaconda3/lib/python310.zip', '/Users/conkey/anaconda3/lib/python3.10', '/Users/conkey/anaconda3/lib/python3.10/lib-dynload', '', '/Users/conkey/anaconda3/lib/python3.10/site-packages', '/Users/conkey/anaconda3/lib/python3.10/site-packages/PyQt5_sip-12.11.0-py3.10-macosx-11.1-arm64.egg']\n"
     ]
    },
    {
     "ename": "ModuleNotFoundError",
     "evalue": "No module named 'sub_dual_autodiff'",
     "output_type": "error",
     "traceback": [
      "\u001b[0;31m---------------------------------------------------------------------------\u001b[0m",
      "\u001b[0;31mModuleNotFoundError\u001b[0m                       Traceback (most recent call last)",
      "Cell \u001b[0;32mIn[1], line 12\u001b[0m\n\u001b[1;32m      9\u001b[0m \u001b[38;5;28mprint\u001b[39m(sys\u001b[38;5;241m.\u001b[39mpath)\n\u001b[1;32m     11\u001b[0m \u001b[38;5;66;03m# Import the package\u001b[39;00m\n\u001b[0;32m---> 12\u001b[0m \u001b[38;5;28;01mimport\u001b[39;00m \u001b[38;5;21;01msub_dual_autodiff\u001b[39;00m\n",
      "\u001b[0;31mModuleNotFoundError\u001b[0m: No module named 'sub_dual_autodiff'"
     ]
    }
   ],
   "source": [
    "# Cell 1: Add the path to the package directory\n",
    "import sys\n",
    "import os\n",
    "\n",
    "# Add the relative path to the package directory\n",
    "sys.path.insert(0, os.path.abspath('../../'))\n",
    "\n",
    "# Verify the path was added\n",
    "print(sys.path)\n",
    "\n",
    "# Import the package\n",
    "import sub_dual_autodiff\n"
   ]
  },
  {
   "cell_type": "code",
   "execution_count": 2,
   "id": "5f1afe4a-7e32-4611-8f37-465b19bc51c3",
   "metadata": {},
   "outputs": [
    {
     "ename": "ModuleNotFoundError",
     "evalue": "No module named 'sub_dual_autodiff'",
     "output_type": "error",
     "traceback": [
      "\u001b[0;31m---------------------------------------------------------------------------\u001b[0m",
      "\u001b[0;31mModuleNotFoundError\u001b[0m                       Traceback (most recent call last)",
      "Cell \u001b[0;32mIn[2], line 12\u001b[0m\n\u001b[1;32m      1\u001b[0m \u001b[38;5;66;03m# dual_autodiff.ipynb\u001b[39;00m\n\u001b[1;32m      4\u001b[0m \u001b[38;5;124;03m\"\"\"\u001b[39;00m\n\u001b[1;32m      5\u001b[0m \u001b[38;5;124;03m# Dual AutoDiff Tutorial\u001b[39;00m\n\u001b[1;32m      6\u001b[0m \n\u001b[0;32m   (...)\u001b[0m\n\u001b[1;32m      9\u001b[0m \u001b[38;5;124;03m## Example 3: Basic Operations with Dual Numbers\u001b[39;00m\n\u001b[1;32m     10\u001b[0m \u001b[38;5;124;03m\"\"\"\u001b[39;00m\n\u001b[0;32m---> 12\u001b[0m \u001b[38;5;28;01mfrom\u001b[39;00m \u001b[38;5;21;01msub_dual_autodiff\u001b[39;00m \u001b[38;5;28;01mimport\u001b[39;00m Dual\n\u001b[1;32m     13\u001b[0m \u001b[38;5;28;01mimport\u001b[39;00m \u001b[38;5;21;01mnumpy\u001b[39;00m \u001b[38;5;28;01mas\u001b[39;00m \u001b[38;5;21;01mnp\u001b[39;00m\n\u001b[1;32m     15\u001b[0m \u001b[38;5;66;03m# Create dual numbers\u001b[39;00m\n",
      "\u001b[0;31mModuleNotFoundError\u001b[0m: No module named 'sub_dual_autodiff'"
     ]
    }
   ],
   "source": [
    "# dual_autodiff.ipynb\n",
    "\n",
    "\n",
    "\"\"\"\n",
    "# Dual AutoDiff Tutorial\n",
    "\n",
    "This notebook demonstrates how to use the `sub_dual_autodiff` package for automatic differentiation.\n",
    "\n",
    "## Example 3: Basic Operations with Dual Numbers\n",
    "\"\"\"\n",
    "\n",
    "from sub_dual_autodiff import Dual\n",
    "import numpy as np\n",
    "\n",
    "# Create dual numbers\n",
    "x = Dual(10, 4)  # Dual number: 10 + 4ε\n",
    "y = Dual(5, 17)  # Dual number: 5 + 17ε\n",
    "\n",
    "# Basic representation\n",
    "print(f\"x: {x}\")\n",
    "print(f\"y: {y}\")\n",
    "\n",
    "# Addition\n",
    "addition = x + y\n",
    "print(f\"Addition: {addition}\")\n",
    "\n",
    "# Subtraction\n",
    "subtraction = x - y\n",
    "print(f\"Subtraction: {subtraction}\")\n",
    "\n",
    "# Multiplication\n",
    "multiplication = x * y\n",
    "print(f\"Multiplication: {multiplication}\")\n",
    "\n",
    "# Division\n",
    "division = x / y\n",
    "print(f\"Division: {division}\")\n",
    "\n",
    "\"\"\"\n",
    "## Example 2: Dual Numbers and Elementary Functions\n",
    "\"\"\"\n",
    "\n",
    "# Trigonometric functions\n",
    "sin_x = x.sin()\n",
    "cos_x = x.cos()\n",
    "tan_x = x.tan()\n",
    "\n",
    "print(f\"sin(x): {sin_x}\")\n",
    "print(f\"cos(x): {cos_x}\")\n",
    "print(f\"tan(x): {tan_x}\")\n",
    "\n",
    "# Exponential and logarithmic functions\n",
    "exp_x = x.exp()\n",
    "log_x = x.log()\n",
    "\n",
    "print(f\"exp(x): {exp_x}\")\n",
    "print(f\"log(x): {log_x}\")\n",
    "\n",
    "\n",
    "\n",
    "\n",
    "\n"
   ]
  },
  {
   "cell_type": "code",
   "execution_count": 5,
   "id": "5700fdac-334a-479c-8b52-262bb0083702",
   "metadata": {},
   "outputs": [
    {
     "ename": "ModuleNotFoundError",
     "evalue": "No module named 'sub_dual_autodiff_x'",
     "output_type": "error",
     "traceback": [
      "\u001b[0;31m---------------------------------------------------------------------------\u001b[0m",
      "\u001b[0;31mModuleNotFoundError\u001b[0m                       Traceback (most recent call last)",
      "Cell \u001b[0;32mIn[5], line 5\u001b[0m\n\u001b[1;32m      3\u001b[0m \u001b[38;5;28;01mimport\u001b[39;00m \u001b[38;5;21;01mmatplotlib\u001b[39;00m\u001b[38;5;21;01m.\u001b[39;00m\u001b[38;5;21;01mpyplot\u001b[39;00m \u001b[38;5;28;01mas\u001b[39;00m \u001b[38;5;21;01mplt\u001b[39;00m\n\u001b[1;32m      4\u001b[0m \u001b[38;5;66;03m#import sub_dual_autodiff  # Pure Python package\u001b[39;00m\n\u001b[0;32m----> 5\u001b[0m \u001b[38;5;28;01mimport\u001b[39;00m \u001b[38;5;21;01msub_dual_autodiff_x\u001b[39;00m  \u001b[38;5;66;03m# Cythonized package\u001b[39;00m\n\u001b[1;32m      7\u001b[0m \u001b[38;5;66;03m# Example function to benchmark\u001b[39;00m\n\u001b[1;32m      8\u001b[0m \u001b[38;5;28;01mdef\u001b[39;00m \u001b[38;5;21mexample_function\u001b[39m(package):\n\u001b[1;32m      9\u001b[0m     \u001b[38;5;66;03m# Perform operations using the package (e.g., addition, multiplication, etc.)\u001b[39;00m\n",
      "\u001b[0;31mModuleNotFoundError\u001b[0m: No module named 'sub_dual_autodiff_x'"
     ]
    }
   ],
   "source": [
    "import timeit\n",
    "import numpy as np\n",
    "import matplotlib.pyplot as plt\n",
    "import sub_dual_autodiff  # Pure Python package\n",
    "import sub_dual_autodiff_x  # Cythonized package\n",
    "\n",
    "# Example function to benchmark\n",
    "def example_function(package):\n",
    "    # Perform operations using the package (e.g., addition, multiplication, etc.)\n",
    "    dual = package.Dual(2.0, 1.0)\n",
    "    result = dual + dual * 3.0  # Simple operation\n",
    "    return result\n",
    "\n",
    "# Benchmarking function\n",
    "def benchmark(package, n_trials=1000):\n",
    "    times = []\n",
    "    for _ in range(n_trials):\n",
    "        start = timeit.default_timer()\n",
    "        example_function(package)\n",
    "        end = timeit.default_timer()\n",
    "        times.append(end - start)\n",
    "    return np.mean(times)\n",
    "\n",
    "# Set random seed for reproducibility\n",
    "np.random.seed(42)\n",
    "\n",
    "# Perform benchmarking\n",
    "python_time = benchmark(sub_dual_autodiff, n_trials=1000)\n",
    "cython_time = benchmark(sub_dual_autodiff_x, n_trials=1000)\n",
    "\n",
    "# Display results\n",
    "print(f\"Pure Python version average time: {python_time:.10f} seconds\")\n",
    "print(f\"Cythonized version average time: {cython_time:.10f} seconds\")\n",
    "\n",
    "# Plot comparison\n",
    "times = [python_time, cython_time]\n",
    "labels = ['Pure Python', 'Cythonized']\n",
    "plt.bar(labels, times, color=['blue', 'green'])\n",
    "plt.ylabel('Execution Time (seconds)')\n",
    "plt.title('Performance Comparison: Pure Python vs Cythonized')\n",
    "plt.xticks(rotation=45)\n",
    "plt.tight_layout()\n",
    "plt.savefig(\"Performance_Comparison.png\")\n",
    "plt.show()\n"
   ]
  },
  {
   "cell_type": "code",
   "execution_count": null,
   "id": "c88d02b8-f113-496e-be0f-d1c36250f3bc",
   "metadata": {},
   "outputs": [],
   "source": []
  }
 ],
 "metadata": {
  "kernelspec": {
   "display_name": "Python 3 (ipykernel)",
   "language": "python",
   "name": "python3"
  },
  "language_info": {
   "codemirror_mode": {
    "name": "ipython",
    "version": 3
   },
   "file_extension": ".py",
   "mimetype": "text/x-python",
   "name": "python",
   "nbconvert_exporter": "python",
   "pygments_lexer": "ipython3",
   "version": "3.10.13"
  }
 },
 "nbformat": 4,
 "nbformat_minor": 5
}
